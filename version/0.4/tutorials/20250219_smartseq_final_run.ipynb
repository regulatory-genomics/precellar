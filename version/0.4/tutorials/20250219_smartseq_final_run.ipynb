{
 "cells": [
  {
   "cell_type": "markdown",
   "id": "4f6dc446-a41e-45d0-8c04-b3ac61f6c96d",
   "metadata": {},
   "source": [
    "# Smart-seq2"
   ]
  },
  {
   "cell_type": "markdown",
   "id": "c3ff6e85-50a0-4e3b-b3fc-4a144895af0e",
   "metadata": {},
   "source": [
    "[Smart-seq2](https://www.nature.com/articles/nprot.2014.006) is a full-length single-cell RNA sequencing method that requires specific analytical considerations due to its unique characteristics. Here are the key features that distinguish Smart-seq2 from other scRNA-seq methods:\n",
    "\n",
    "- Demultiplexed format.\n",
    "\n",
    "- Higher sequencing depth\n",
    "\n",
    "- Can sequence entire transcript length.\n",
    "\n",
    "- Does not support UMIs"
   ]
  },
  {
   "cell_type": "markdown",
   "id": "aeaed0f4-3f3b-42bd-96cc-7170fb81d98b",
   "metadata": {},
   "source": [
    "In this example, the Smart-seq2 datasets are downloaded from [PRJNA213629](https://www.ncbi.nlm.nih.gov/bioproject/PRJNA213629)"
   ]
  },
  {
   "cell_type": "code",
   "execution_count": 18,
   "id": "b994a87a-d4b1-4df4-8c49-f57f168dcdc8",
   "metadata": {},
   "outputs": [],
   "source": [
    "import precellar\n",
    "precellar.__version__\n",
    "import scanpy as sc\n",
    "import hdf5plugin # add this for Anndata process."
   ]
  },
  {
   "cell_type": "markdown",
   "id": "b421079c-b8af-4f48-bf12-dfd90b765072",
   "metadata": {},
   "source": [
    "Due to Smart-seq2's demultiplexed data structure, where each cell is represented by individual FASTQ files, we consolidated all Smart-seq2 datasets into unified FASTQ files (one file for single-end sequencing, or two files for paired-end sequencing). To maintain compatibility with standard processing pipelines, we implemented a pseudo-barcode in the seqspec templates. While these barcodes don't physically exist in the original sequences, their addition facilitates streamlined data processing and analysis workflows."
   ]
  },
  {
   "cell_type": "code",
   "execution_count": 22,
   "id": "74915482-56a8-4894-8db1-276776995530",
   "metadata": {},
   "outputs": [
    {
     "name": "stdout",
     "output_type": "stream",
     "text": [
      "rna\n",
      "└── RNA(139-236)\n",
      "    ├── illumina_p5(29)\n",
      "    ├── i5(10)\n",
      "    ├── s5(14)\n",
      "    ├── ME1(19) [↓R1(1-250)✗]\n",
      "    ├── cDNA(1-98)\n",
      "    ├── ME2(19) [↑R2(1-250)✗]\n",
      "    ├── s7(15)\n",
      "    ├── i7(8)\n",
      "    ├── umi(4-10)\n",
      "    ├── pseudo_barcode(4)\n",
      "    └── illumina_p7(24) [↑I1(1-10)✗]\n",
      "\n"
     ]
    }
   ],
   "source": [
    "assay = precellar.Assay(\"seqspec_template/smartseq2.yaml\")\n",
    "print(assay)"
   ]
  },
  {
   "cell_type": "code",
   "execution_count": 20,
   "id": "ac67cdb9-266e-4a00-a9f5-20306dd9eb0c",
   "metadata": {},
   "outputs": [
    {
     "name": "stdout",
     "output_type": "stream",
     "text": [
      "/data2/litian/precellar_temp/SRR944282.fastq.zst\n",
      "/data2/litian/precellar_temp/SRR944283.fastq.zst\n",
      "/data2/litian/precellar_temp/SRR944284.fastq.zst\n",
      "/data2/litian/precellar_temp/SRR944285.fastq.zst\n",
      "/data2/litian/precellar_temp/SRR944286.fastq.zst\n",
      "/data2/litian/precellar_temp/SRR944287.fastq.zst\n",
      "/data2/litian/precellar_temp/SRR944288.fastq.zst\n",
      "/data2/litian/precellar_temp/SRR944289.fastq.zst\n",
      "/data2/litian/precellar_temp/SRR944290.fastq.zst\n",
      "/data2/litian/precellar_temp/SRR944291.fastq.zst\n"
     ]
    }
   ],
   "source": [
    "!ls /data2/litian/precellar_temp/*.fastq.zst | head"
   ]
  },
  {
   "cell_type": "code",
   "execution_count": null,
   "id": "be27f041-8365-4d54-8eeb-53ae1274354f",
   "metadata": {},
   "outputs": [],
   "source": [
    "%%time\n",
    "precellar.utils.merge_fastq_files(input1_files = \"/data2/litian/precellar_temp/*.fastq.zst\", \n",
    "                                  output1_file = \"/data2/litian/precellar_temp/merged_fastq.fastq.zst\",\n",
    "                                  barcode_file=\"/data2/litian/precellar_temp/barcode.fastq.zst\",\n",
    "                                  num_threads=32)"
   ]
  },
  {
   "cell_type": "code",
   "execution_count": 23,
   "id": "03b0832e-eea3-435e-817c-b22a1c00875f",
   "metadata": {},
   "outputs": [],
   "source": [
    "\n",
    "assay.update_read('R1', fastq='/data2/litian/precellar_temp/merged_fastq.fastq.zst')\n",
    "assay.update_read('I1', fastq='/data2/litian/precellar_temp/barcode.fastq.zst')"
   ]
  },
  {
   "cell_type": "code",
   "execution_count": 24,
   "id": "9074a552-f482-487e-914a-5a2fa37e2534",
   "metadata": {},
   "outputs": [
    {
     "data": {
      "text/plain": [
       "rna\n",
       "└── RNA(139-236)\n",
       "    ├── illumina_p5(29)\n",
       "    ├── i5(10)\n",
       "    ├── s5(14)\n",
       "    ├── ME1(19) [↓R1(43)✓]\n",
       "    ├── cDNA(1-98)\n",
       "    ├── ME2(19) [↑R2(1-250)✗]\n",
       "    ├── s7(15)\n",
       "    ├── i7(8)\n",
       "    ├── umi(4-10)\n",
       "    ├── pseudo_barcode(4)\n",
       "    └── illumina_p7(24) [↑I1(8)✓]"
      ]
     },
     "execution_count": 24,
     "metadata": {},
     "output_type": "execute_result"
    }
   ],
   "source": [
    "assay"
   ]
  },
  {
   "cell_type": "code",
   "execution_count": 25,
   "id": "77417cb5-29ce-433b-96b7-4e057cf1b1ef",
   "metadata": {},
   "outputs": [],
   "source": [
    "star = precellar.aligners.STAR(\"/data/Public/STAR_reference/refdata-gex-GRCh38-2024-A/star/\") "
   ]
  },
  {
   "cell_type": "code",
   "execution_count": 4,
   "id": "1ed72413-5a81-4c13-ab1f-aa5db986fe33",
   "metadata": {},
   "outputs": [
    {
     "name": "stderr",
     "output_type": "stream",
     "text": [
      "[2025-02-19T06:10:48Z \u001b[32mINFO\u001b[0m] Starting alignment process\n",
      "[2025-02-19T06:10:48Z \u001b[32mINFO\u001b[0m] Using provided Assay object\n",
      "[2025-02-19T06:10:48Z \u001b[32mINFO\u001b[0m] Using modality: RNA\n",
      "[2025-02-19T06:10:48Z \u001b[32mINFO\u001b[0m] Initialized aligner: STAR\n",
      "[2025-02-19T06:10:49Z \u001b[32mINFO\u001b[0m] Initializing FastqProcessor with 32 threads and chunk size 10000000\n",
      "[2025-02-19T06:10:49Z \u001b[32mINFO\u001b[0m] Adding mitochondrial DNA references: [\"chrM\", \"M\"]\n",
      "[2025-02-19T06:10:49Z \u001b[32mINFO\u001b[0m] Generating alignments\n",
      "[2025-02-19T06:10:49Z \u001b[32mINFO\u001b[0m] Using STAR aligner\n",
      "[2025-02-19T06:10:49Z \u001b[32mINFO\u001b[0m] Counting barcodes...\n",
      "[2025-02-19T06:15:09Z \u001b[32mINFO\u001b[0m] Aligning 866471826 reads...\n",
      "[2025-02-19T06:15:09Z \u001b[32mINFO\u001b[0m] Processing output type: gene_quantification\n",
      "[2025-02-19T06:15:09Z \u001b[32mINFO\u001b[0m] Starting gene quantification\n",
      " 70%|�██████   | 602352960/866471826 [44:13<19:23, 226971.17it/s]/s]"
     ]
    },
    {
     "data": {
      "text/plain": [
       "{'frac_q30_bases_barcode': 1.0,\n",
       " 'frac_duplicates': 0.0,\n",
       " 'sequenced_read_pairs': 0.0,\n",
       " 'frac_unmapped': 0.15283863482480964,\n",
       " 'sequenced_reads': 866471826.0,\n",
       " 'frac_q30_bases_read1': 0.9663986458638546,\n",
       " 'frac_confidently_mapped': 0.643611707000846,\n",
       " 'frac_mitochondrial': 0.10567590354961628,\n",
       " 'frac_transcriptome': 0.32021040000901313,\n",
       " 'frac_valid_barcode': 1.0}"
      ]
     },
     "execution_count": 4,
     "metadata": {},
     "output_type": "execute_result"
    },
    {
     "name": "stderr",
     "output_type": "stream",
     "text": [
      "100%|██████████| 866471826/866471826 [01:03:07<00:00, 228788.02it/s][2025-02-19T07:19:30Z \u001b[33mWARN\u001b[0m] Encountered alignment(s) without UMI information. Using generated UMIs.\n",
      "[2025-02-19T07:19:30Z \u001b[33mWARN\u001b[0m] Encountered alignment(s) without UMI information. Using generated UMIs.\n",
      "[2025-02-19T07:19:30Z \u001b[33mWARN\u001b[0m] Encountered alignment(s) without UMI information. Using generated UMIs.\n",
      "[2025-02-19T07:19:30Z \u001b[33mWARN\u001b[0m] Encountered alignment(s) without UMI information. Using generated UMIs.\n",
      "[2025-02-19T07:19:30Z \u001b[33mWARN\u001b[0m] Encountered alignment(s) without UMI information. Using generated UMIs.\n",
      "[2025-02-19T07:19:30Z \u001b[33mWARN\u001b[0m] Encountered alignment(s) without UMI information. Using generated UMIs.\n",
      "[2025-02-19T07:19:30Z \u001b[33mWARN\u001b[0m] Encountered alignment(s) without UMI information. Using generated UMIs.\n",
      "[2025-02-19T07:19:30Z \u001b[33mWARN\u001b[0m] Encountered alignment(s) without UMI information. Using generated UMIs.\n",
      "[2025-02-19T07:19:30Z \u001b[33mWARN\u001b[0m] Encountered alignment(s) without UMI information. Using generated UMIs.\n",
      "[2025-02-19T07:19:30Z \u001b[33mWARN\u001b[0m] Encountered alignment(s) without UMI information. Using generated UMIs.\n",
      "[2025-02-19T07:19:30Z \u001b[33mWARN\u001b[0m] Encountered alignment(s) without UMI information. Using generated UMIs.\n",
      "[2025-02-19T07:19:30Z \u001b[33mWARN\u001b[0m] Encountered alignment(s) without UMI information. Using generated UMIs.\n",
      "[2025-02-19T07:19:30Z \u001b[33mWARN\u001b[0m] Encountered alignment(s) without UMI information. Using generated UMIs.\n",
      "[2025-02-19T07:19:30Z \u001b[33mWARN\u001b[0m] Encountered alignment(s) without UMI information. Using generated UMIs.\n",
      "[2025-02-19T07:19:30Z \u001b[33mWARN\u001b[0m] Encountered alignment(s) without UMI information. Using generated UMIs.\n",
      "[2025-02-19T07:19:30Z \u001b[33mWARN\u001b[0m] Encountered alignment(s) without UMI information. Using generated UMIs.\n",
      "[2025-02-19T07:19:30Z \u001b[33mWARN\u001b[0m] Encountered alignment(s) without UMI information. Using generated UMIs.\n",
      "[2025-02-19T07:19:30Z \u001b[33mWARN\u001b[0m] Encountered alignment(s) without UMI information. Using generated UMIs.\n",
      "[2025-02-19T07:19:30Z \u001b[33mWARN\u001b[0m] Encountered alignment(s) without UMI information. Using generated UMIs.\n",
      "[2025-02-19T07:19:30Z \u001b[33mWARN\u001b[0m] Encountered alignment(s) without UMI information. Using generated UMIs.\n",
      "[2025-02-19T07:19:30Z \u001b[33mWARN\u001b[0m] Encountered alignment(s) without UMI information. Using generated UMIs.\n",
      "[2025-02-19T07:19:30Z \u001b[33mWARN\u001b[0m] Encountered alignment(s) without UMI information. Using generated UMIs.\n",
      "[2025-02-19T07:19:30Z \u001b[33mWARN\u001b[0m] Encountered alignment(s) without UMI information. Using generated UMIs.\n",
      "[2025-02-19T07:19:30Z \u001b[33mWARN\u001b[0m] Encountered alignment(s) without UMI information. Using generated UMIs.\n",
      "[2025-02-19T07:19:30Z \u001b[33mWARN\u001b[0m] Encountered alignment(s) without UMI information. Using generated UMIs.\n",
      "[2025-02-19T07:19:30Z \u001b[33mWARN\u001b[0m] Encountered alignment(s) without UMI information. Using generated UMIs.\n",
      "[2025-02-19T07:19:30Z \u001b[33mWARN\u001b[0m] Encountered alignment(s) without UMI information. Using generated UMIs.\n",
      "[2025-02-19T07:19:30Z \u001b[33mWARN\u001b[0m] Encountered alignment(s) without UMI information. Using generated UMIs.\n",
      "[2025-02-19T07:23:38Z \u001b[32mINFO\u001b[0m] Completed gene quantification, writing to: \"20250218_gene_matrix_smartseq.h5ad\"\n",
      "[2025-02-19T07:23:38Z \u001b[32mINFO\u001b[0m] Alignment process completed in 4370.28s\n"
     ]
    }
   ],
   "source": [
    "precellar.align(\n",
    "    assay,\n",
    "    modality='rna',\n",
    "    aligner=star,\n",
    "    output='20250218_gene_matrix_smartseq.h5ad',\n",
    "    output_type='gene_quantification',\n",
    "    num_threads=32,\n",
    ")"
   ]
  },
  {
   "cell_type": "code",
   "execution_count": null,
   "id": "fea99edc-247b-4fb9-b75c-ab91a94e6331",
   "metadata": {},
   "outputs": [],
   "source": []
  }
 ],
 "metadata": {
  "kernelspec": {
   "display_name": "Python 3 (ipykernel)",
   "language": "python",
   "name": "python3"
  },
  "language_info": {
   "codemirror_mode": {
    "name": "ipython",
    "version": 3
   },
   "file_extension": ".py",
   "mimetype": "text/x-python",
   "name": "python",
   "nbconvert_exporter": "python",
   "pygments_lexer": "ipython3",
   "version": "3.11.0"
  }
 },
 "nbformat": 4,
 "nbformat_minor": 5
}
